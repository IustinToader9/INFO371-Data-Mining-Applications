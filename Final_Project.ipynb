{
  "nbformat": 4,
  "nbformat_minor": 0,
  "metadata": {
    "colab": {
      "provenance": [],
      "collapsed_sections": []
    },
    "kernelspec": {
      "display_name": "Python 3",
      "language": "python",
      "name": "python3"
    },
    "language_info": {
      "codemirror_mode": {
        "name": "ipython",
        "version": 3
      },
      "file_extension": ".py",
      "mimetype": "text/x-python",
      "name": "python",
      "nbconvert_exporter": "python",
      "pygments_lexer": "ipython3",
      "version": "3.7.6"
    }
  },
  "cells": [
    {
      "cell_type": "markdown",
      "metadata": {
        "id": "JGGCTP1aOPdp"
      },
      "source": [
        "## Final Project Report\n",
        "\n",
        "## Project Title: Predicting Qualification / Relegation for Championship League\n",
        "\n",
        "## Student(s): Iustin Toader, Joaquin Restrepo, Riley Faulkner\n",
        "\n",
        "#### Date: 12/08/2021\n",
        "---"
      ]
    },
    {
      "cell_type": "markdown",
      "metadata": {
        "id": "3D1d_7YyOPdz"
      },
      "source": [
        "### Data Sources\n",
        "---\n"
      ]
    },
    {
      "cell_type": "code",
      "metadata": {
        "id": "wwYIEAWgOPdz"
      },
      "source": [
        "import pandas as pd\n",
        "import numpy as np\n",
        "from google.colab import files\n",
        "import matplotlib.pyplot as plt\n",
        "from google.colab import files"
      ],
      "execution_count": 1,
      "outputs": []
    },
    {
      "cell_type": "code",
      "metadata": {
        "id": "_5d8KQQxHcBh"
      },
      "source": [
        "files.upload()"
      ],
      "execution_count": null,
      "outputs": []
    },
    {
      "cell_type": "code",
      "metadata": {
        "id": "EDcGmvxApZ8-"
      },
      "source": [
        "epl = pd.read_csv('PL_train_2.csv', parse_dates=[\"Date\"], dayfirst=False)"
      ],
      "execution_count": 3,
      "outputs": []
    },
    {
      "cell_type": "code",
      "metadata": {
        "id": "45Ry3Z63plSC",
        "colab": {
          "base_uri": "https://localhost:8080/",
          "height": 374
        },
        "outputId": "36ca81c0-26b0-4ee6-a72f-163ae4e846f3"
      },
      "source": [
        "epl.head()"
      ],
      "execution_count": 4,
      "outputs": [
        {
          "output_type": "execute_result",
          "data": {
            "text/plain": [
              "        Date     HomeTeam     AwayTeam outcome_by_HOME  AVERAGE_ODD_WIN  \\\n",
              "0 2015-08-08  Bournemouth  Aston Villa               L            7.024   \n",
              "1 2015-08-08      Chelsea      Swansea               D            6.697   \n",
              "2 2015-08-08      Everton      Watford               D            6.842   \n",
              "3 2015-08-08    Leicester   Sunderland               W            7.000   \n",
              "4 2015-08-08   Man United    Tottenham               W            6.477   \n",
              "\n",
              "   AVERAGE_ODD_DRAW  AVERAGE_ODD_OPPONENT_WIN  RANKINGHOME  RANKING AWAY  \\\n",
              "0             3.303                     3.748           20            17   \n",
              "1             4.338                     8.967            1             8   \n",
              "2             3.514                     4.852           11            20   \n",
              "3             3.207                     3.742           14            16   \n",
              "4             3.651                     5.318            4             5   \n",
              "\n",
              "   LAST_GAME_RHOMETEAM  LAST_GAME_RAWAYTEAM  \n",
              "0                    0                    0  \n",
              "1                    0                    0  \n",
              "2                    0                    0  \n",
              "3                    0                    0  \n",
              "4                    0                    0  "
            ],
            "text/html": [
              "\n",
              "  <div id=\"df-6297f159-7223-4f83-90f0-02f3733194b8\">\n",
              "    <div class=\"colab-df-container\">\n",
              "      <div>\n",
              "<style scoped>\n",
              "    .dataframe tbody tr th:only-of-type {\n",
              "        vertical-align: middle;\n",
              "    }\n",
              "\n",
              "    .dataframe tbody tr th {\n",
              "        vertical-align: top;\n",
              "    }\n",
              "\n",
              "    .dataframe thead th {\n",
              "        text-align: right;\n",
              "    }\n",
              "</style>\n",
              "<table border=\"1\" class=\"dataframe\">\n",
              "  <thead>\n",
              "    <tr style=\"text-align: right;\">\n",
              "      <th></th>\n",
              "      <th>Date</th>\n",
              "      <th>HomeTeam</th>\n",
              "      <th>AwayTeam</th>\n",
              "      <th>outcome_by_HOME</th>\n",
              "      <th>AVERAGE_ODD_WIN</th>\n",
              "      <th>AVERAGE_ODD_DRAW</th>\n",
              "      <th>AVERAGE_ODD_OPPONENT_WIN</th>\n",
              "      <th>RANKINGHOME</th>\n",
              "      <th>RANKING AWAY</th>\n",
              "      <th>LAST_GAME_RHOMETEAM</th>\n",
              "      <th>LAST_GAME_RAWAYTEAM</th>\n",
              "    </tr>\n",
              "  </thead>\n",
              "  <tbody>\n",
              "    <tr>\n",
              "      <th>0</th>\n",
              "      <td>2015-08-08</td>\n",
              "      <td>Bournemouth</td>\n",
              "      <td>Aston Villa</td>\n",
              "      <td>L</td>\n",
              "      <td>7.024</td>\n",
              "      <td>3.303</td>\n",
              "      <td>3.748</td>\n",
              "      <td>20</td>\n",
              "      <td>17</td>\n",
              "      <td>0</td>\n",
              "      <td>0</td>\n",
              "    </tr>\n",
              "    <tr>\n",
              "      <th>1</th>\n",
              "      <td>2015-08-08</td>\n",
              "      <td>Chelsea</td>\n",
              "      <td>Swansea</td>\n",
              "      <td>D</td>\n",
              "      <td>6.697</td>\n",
              "      <td>4.338</td>\n",
              "      <td>8.967</td>\n",
              "      <td>1</td>\n",
              "      <td>8</td>\n",
              "      <td>0</td>\n",
              "      <td>0</td>\n",
              "    </tr>\n",
              "    <tr>\n",
              "      <th>2</th>\n",
              "      <td>2015-08-08</td>\n",
              "      <td>Everton</td>\n",
              "      <td>Watford</td>\n",
              "      <td>D</td>\n",
              "      <td>6.842</td>\n",
              "      <td>3.514</td>\n",
              "      <td>4.852</td>\n",
              "      <td>11</td>\n",
              "      <td>20</td>\n",
              "      <td>0</td>\n",
              "      <td>0</td>\n",
              "    </tr>\n",
              "    <tr>\n",
              "      <th>3</th>\n",
              "      <td>2015-08-08</td>\n",
              "      <td>Leicester</td>\n",
              "      <td>Sunderland</td>\n",
              "      <td>W</td>\n",
              "      <td>7.000</td>\n",
              "      <td>3.207</td>\n",
              "      <td>3.742</td>\n",
              "      <td>14</td>\n",
              "      <td>16</td>\n",
              "      <td>0</td>\n",
              "      <td>0</td>\n",
              "    </tr>\n",
              "    <tr>\n",
              "      <th>4</th>\n",
              "      <td>2015-08-08</td>\n",
              "      <td>Man United</td>\n",
              "      <td>Tottenham</td>\n",
              "      <td>W</td>\n",
              "      <td>6.477</td>\n",
              "      <td>3.651</td>\n",
              "      <td>5.318</td>\n",
              "      <td>4</td>\n",
              "      <td>5</td>\n",
              "      <td>0</td>\n",
              "      <td>0</td>\n",
              "    </tr>\n",
              "  </tbody>\n",
              "</table>\n",
              "</div>\n",
              "      <button class=\"colab-df-convert\" onclick=\"convertToInteractive('df-6297f159-7223-4f83-90f0-02f3733194b8')\"\n",
              "              title=\"Convert this dataframe to an interactive table.\"\n",
              "              style=\"display:none;\">\n",
              "        \n",
              "  <svg xmlns=\"http://www.w3.org/2000/svg\" height=\"24px\"viewBox=\"0 0 24 24\"\n",
              "       width=\"24px\">\n",
              "    <path d=\"M0 0h24v24H0V0z\" fill=\"none\"/>\n",
              "    <path d=\"M18.56 5.44l.94 2.06.94-2.06 2.06-.94-2.06-.94-.94-2.06-.94 2.06-2.06.94zm-11 1L8.5 8.5l.94-2.06 2.06-.94-2.06-.94L8.5 2.5l-.94 2.06-2.06.94zm10 10l.94 2.06.94-2.06 2.06-.94-2.06-.94-.94-2.06-.94 2.06-2.06.94z\"/><path d=\"M17.41 7.96l-1.37-1.37c-.4-.4-.92-.59-1.43-.59-.52 0-1.04.2-1.43.59L10.3 9.45l-7.72 7.72c-.78.78-.78 2.05 0 2.83L4 21.41c.39.39.9.59 1.41.59.51 0 1.02-.2 1.41-.59l7.78-7.78 2.81-2.81c.8-.78.8-2.07 0-2.86zM5.41 20L4 18.59l7.72-7.72 1.47 1.35L5.41 20z\"/>\n",
              "  </svg>\n",
              "      </button>\n",
              "      \n",
              "  <style>\n",
              "    .colab-df-container {\n",
              "      display:flex;\n",
              "      flex-wrap:wrap;\n",
              "      gap: 12px;\n",
              "    }\n",
              "\n",
              "    .colab-df-convert {\n",
              "      background-color: #E8F0FE;\n",
              "      border: none;\n",
              "      border-radius: 50%;\n",
              "      cursor: pointer;\n",
              "      display: none;\n",
              "      fill: #1967D2;\n",
              "      height: 32px;\n",
              "      padding: 0 0 0 0;\n",
              "      width: 32px;\n",
              "    }\n",
              "\n",
              "    .colab-df-convert:hover {\n",
              "      background-color: #E2EBFA;\n",
              "      box-shadow: 0px 1px 2px rgba(60, 64, 67, 0.3), 0px 1px 3px 1px rgba(60, 64, 67, 0.15);\n",
              "      fill: #174EA6;\n",
              "    }\n",
              "\n",
              "    [theme=dark] .colab-df-convert {\n",
              "      background-color: #3B4455;\n",
              "      fill: #D2E3FC;\n",
              "    }\n",
              "\n",
              "    [theme=dark] .colab-df-convert:hover {\n",
              "      background-color: #434B5C;\n",
              "      box-shadow: 0px 1px 3px 1px rgba(0, 0, 0, 0.15);\n",
              "      filter: drop-shadow(0px 1px 2px rgba(0, 0, 0, 0.3));\n",
              "      fill: #FFFFFF;\n",
              "    }\n",
              "  </style>\n",
              "\n",
              "      <script>\n",
              "        const buttonEl =\n",
              "          document.querySelector('#df-6297f159-7223-4f83-90f0-02f3733194b8 button.colab-df-convert');\n",
              "        buttonEl.style.display =\n",
              "          google.colab.kernel.accessAllowed ? 'block' : 'none';\n",
              "\n",
              "        async function convertToInteractive(key) {\n",
              "          const element = document.querySelector('#df-6297f159-7223-4f83-90f0-02f3733194b8');\n",
              "          const dataTable =\n",
              "            await google.colab.kernel.invokeFunction('convertToInteractive',\n",
              "                                                     [key], {});\n",
              "          if (!dataTable) return;\n",
              "\n",
              "          const docLinkHtml = 'Like what you see? Visit the ' +\n",
              "            '<a target=\"_blank\" href=https://colab.research.google.com/notebooks/data_table.ipynb>data table notebook</a>'\n",
              "            + ' to learn more about interactive tables.';\n",
              "          element.innerHTML = '';\n",
              "          dataTable['output_type'] = 'display_data';\n",
              "          await google.colab.output.renderOutput(dataTable, element);\n",
              "          const docLink = document.createElement('div');\n",
              "          docLink.innerHTML = docLinkHtml;\n",
              "          element.appendChild(docLink);\n",
              "        }\n",
              "      </script>\n",
              "    </div>\n",
              "  </div>\n",
              "  "
            ]
          },
          "metadata": {},
          "execution_count": 4
        }
      ]
    },
    {
      "cell_type": "code",
      "metadata": {
        "colab": {
          "base_uri": "https://localhost:8080/"
        },
        "id": "Oc8ZYyns4vGb",
        "outputId": "a920187c-5551-46fc-cc31-4d183a4afc27"
      },
      "source": [
        "epl.shape"
      ],
      "execution_count": 5,
      "outputs": [
        {
          "output_type": "execute_result",
          "data": {
            "text/plain": [
              "(1140, 11)"
            ]
          },
          "metadata": {},
          "execution_count": 5
        }
      ]
    },
    {
      "cell_type": "code",
      "metadata": {
        "id": "R-TjtmUn6Gxf",
        "colab": {
          "base_uri": "https://localhost:8080/",
          "height": 357
        },
        "outputId": "cd79a219-0fde-47d5-91ea-769a97cd9fec"
      },
      "source": [
        "epl.columns = [\"Date\", \"HomeTeam\", \"AwayTeam\", \"Outcome(Home)\", \\\n",
        "\"Odds_W(Home)\", \"Odds_D\", \"Odds_L\", \"HomeRank\", \"AwayRank\", \"HomeLastResult\", \"AwayLastResult\"]\n",
        "epl.head()"
      ],
      "execution_count": 6,
      "outputs": [
        {
          "output_type": "execute_result",
          "data": {
            "text/plain": [
              "        Date     HomeTeam     AwayTeam Outcome(Home)  Odds_W(Home)  Odds_D  \\\n",
              "0 2015-08-08  Bournemouth  Aston Villa             L         7.024   3.303   \n",
              "1 2015-08-08      Chelsea      Swansea             D         6.697   4.338   \n",
              "2 2015-08-08      Everton      Watford             D         6.842   3.514   \n",
              "3 2015-08-08    Leicester   Sunderland             W         7.000   3.207   \n",
              "4 2015-08-08   Man United    Tottenham             W         6.477   3.651   \n",
              "\n",
              "   Odds_L  HomeRank  AwayRank  HomeLastResult  AwayLastResult  \n",
              "0   3.748        20        17               0               0  \n",
              "1   8.967         1         8               0               0  \n",
              "2   4.852        11        20               0               0  \n",
              "3   3.742        14        16               0               0  \n",
              "4   5.318         4         5               0               0  "
            ],
            "text/html": [
              "\n",
              "  <div id=\"df-9d173630-d2b7-4aa7-b7a9-228d1a4b4035\">\n",
              "    <div class=\"colab-df-container\">\n",
              "      <div>\n",
              "<style scoped>\n",
              "    .dataframe tbody tr th:only-of-type {\n",
              "        vertical-align: middle;\n",
              "    }\n",
              "\n",
              "    .dataframe tbody tr th {\n",
              "        vertical-align: top;\n",
              "    }\n",
              "\n",
              "    .dataframe thead th {\n",
              "        text-align: right;\n",
              "    }\n",
              "</style>\n",
              "<table border=\"1\" class=\"dataframe\">\n",
              "  <thead>\n",
              "    <tr style=\"text-align: right;\">\n",
              "      <th></th>\n",
              "      <th>Date</th>\n",
              "      <th>HomeTeam</th>\n",
              "      <th>AwayTeam</th>\n",
              "      <th>Outcome(Home)</th>\n",
              "      <th>Odds_W(Home)</th>\n",
              "      <th>Odds_D</th>\n",
              "      <th>Odds_L</th>\n",
              "      <th>HomeRank</th>\n",
              "      <th>AwayRank</th>\n",
              "      <th>HomeLastResult</th>\n",
              "      <th>AwayLastResult</th>\n",
              "    </tr>\n",
              "  </thead>\n",
              "  <tbody>\n",
              "    <tr>\n",
              "      <th>0</th>\n",
              "      <td>2015-08-08</td>\n",
              "      <td>Bournemouth</td>\n",
              "      <td>Aston Villa</td>\n",
              "      <td>L</td>\n",
              "      <td>7.024</td>\n",
              "      <td>3.303</td>\n",
              "      <td>3.748</td>\n",
              "      <td>20</td>\n",
              "      <td>17</td>\n",
              "      <td>0</td>\n",
              "      <td>0</td>\n",
              "    </tr>\n",
              "    <tr>\n",
              "      <th>1</th>\n",
              "      <td>2015-08-08</td>\n",
              "      <td>Chelsea</td>\n",
              "      <td>Swansea</td>\n",
              "      <td>D</td>\n",
              "      <td>6.697</td>\n",
              "      <td>4.338</td>\n",
              "      <td>8.967</td>\n",
              "      <td>1</td>\n",
              "      <td>8</td>\n",
              "      <td>0</td>\n",
              "      <td>0</td>\n",
              "    </tr>\n",
              "    <tr>\n",
              "      <th>2</th>\n",
              "      <td>2015-08-08</td>\n",
              "      <td>Everton</td>\n",
              "      <td>Watford</td>\n",
              "      <td>D</td>\n",
              "      <td>6.842</td>\n",
              "      <td>3.514</td>\n",
              "      <td>4.852</td>\n",
              "      <td>11</td>\n",
              "      <td>20</td>\n",
              "      <td>0</td>\n",
              "      <td>0</td>\n",
              "    </tr>\n",
              "    <tr>\n",
              "      <th>3</th>\n",
              "      <td>2015-08-08</td>\n",
              "      <td>Leicester</td>\n",
              "      <td>Sunderland</td>\n",
              "      <td>W</td>\n",
              "      <td>7.000</td>\n",
              "      <td>3.207</td>\n",
              "      <td>3.742</td>\n",
              "      <td>14</td>\n",
              "      <td>16</td>\n",
              "      <td>0</td>\n",
              "      <td>0</td>\n",
              "    </tr>\n",
              "    <tr>\n",
              "      <th>4</th>\n",
              "      <td>2015-08-08</td>\n",
              "      <td>Man United</td>\n",
              "      <td>Tottenham</td>\n",
              "      <td>W</td>\n",
              "      <td>6.477</td>\n",
              "      <td>3.651</td>\n",
              "      <td>5.318</td>\n",
              "      <td>4</td>\n",
              "      <td>5</td>\n",
              "      <td>0</td>\n",
              "      <td>0</td>\n",
              "    </tr>\n",
              "  </tbody>\n",
              "</table>\n",
              "</div>\n",
              "      <button class=\"colab-df-convert\" onclick=\"convertToInteractive('df-9d173630-d2b7-4aa7-b7a9-228d1a4b4035')\"\n",
              "              title=\"Convert this dataframe to an interactive table.\"\n",
              "              style=\"display:none;\">\n",
              "        \n",
              "  <svg xmlns=\"http://www.w3.org/2000/svg\" height=\"24px\"viewBox=\"0 0 24 24\"\n",
              "       width=\"24px\">\n",
              "    <path d=\"M0 0h24v24H0V0z\" fill=\"none\"/>\n",
              "    <path d=\"M18.56 5.44l.94 2.06.94-2.06 2.06-.94-2.06-.94-.94-2.06-.94 2.06-2.06.94zm-11 1L8.5 8.5l.94-2.06 2.06-.94-2.06-.94L8.5 2.5l-.94 2.06-2.06.94zm10 10l.94 2.06.94-2.06 2.06-.94-2.06-.94-.94-2.06-.94 2.06-2.06.94z\"/><path d=\"M17.41 7.96l-1.37-1.37c-.4-.4-.92-.59-1.43-.59-.52 0-1.04.2-1.43.59L10.3 9.45l-7.72 7.72c-.78.78-.78 2.05 0 2.83L4 21.41c.39.39.9.59 1.41.59.51 0 1.02-.2 1.41-.59l7.78-7.78 2.81-2.81c.8-.78.8-2.07 0-2.86zM5.41 20L4 18.59l7.72-7.72 1.47 1.35L5.41 20z\"/>\n",
              "  </svg>\n",
              "      </button>\n",
              "      \n",
              "  <style>\n",
              "    .colab-df-container {\n",
              "      display:flex;\n",
              "      flex-wrap:wrap;\n",
              "      gap: 12px;\n",
              "    }\n",
              "\n",
              "    .colab-df-convert {\n",
              "      background-color: #E8F0FE;\n",
              "      border: none;\n",
              "      border-radius: 50%;\n",
              "      cursor: pointer;\n",
              "      display: none;\n",
              "      fill: #1967D2;\n",
              "      height: 32px;\n",
              "      padding: 0 0 0 0;\n",
              "      width: 32px;\n",
              "    }\n",
              "\n",
              "    .colab-df-convert:hover {\n",
              "      background-color: #E2EBFA;\n",
              "      box-shadow: 0px 1px 2px rgba(60, 64, 67, 0.3), 0px 1px 3px 1px rgba(60, 64, 67, 0.15);\n",
              "      fill: #174EA6;\n",
              "    }\n",
              "\n",
              "    [theme=dark] .colab-df-convert {\n",
              "      background-color: #3B4455;\n",
              "      fill: #D2E3FC;\n",
              "    }\n",
              "\n",
              "    [theme=dark] .colab-df-convert:hover {\n",
              "      background-color: #434B5C;\n",
              "      box-shadow: 0px 1px 3px 1px rgba(0, 0, 0, 0.15);\n",
              "      filter: drop-shadow(0px 1px 2px rgba(0, 0, 0, 0.3));\n",
              "      fill: #FFFFFF;\n",
              "    }\n",
              "  </style>\n",
              "\n",
              "      <script>\n",
              "        const buttonEl =\n",
              "          document.querySelector('#df-9d173630-d2b7-4aa7-b7a9-228d1a4b4035 button.colab-df-convert');\n",
              "        buttonEl.style.display =\n",
              "          google.colab.kernel.accessAllowed ? 'block' : 'none';\n",
              "\n",
              "        async function convertToInteractive(key) {\n",
              "          const element = document.querySelector('#df-9d173630-d2b7-4aa7-b7a9-228d1a4b4035');\n",
              "          const dataTable =\n",
              "            await google.colab.kernel.invokeFunction('convertToInteractive',\n",
              "                                                     [key], {});\n",
              "          if (!dataTable) return;\n",
              "\n",
              "          const docLinkHtml = 'Like what you see? Visit the ' +\n",
              "            '<a target=\"_blank\" href=https://colab.research.google.com/notebooks/data_table.ipynb>data table notebook</a>'\n",
              "            + ' to learn more about interactive tables.';\n",
              "          element.innerHTML = '';\n",
              "          dataTable['output_type'] = 'display_data';\n",
              "          await google.colab.output.renderOutput(dataTable, element);\n",
              "          const docLink = document.createElement('div');\n",
              "          docLink.innerHTML = docLinkHtml;\n",
              "          element.appendChild(docLink);\n",
              "        }\n",
              "      </script>\n",
              "    </div>\n",
              "  </div>\n",
              "  "
            ]
          },
          "metadata": {},
          "execution_count": 6
        }
      ]
    },
    {
      "cell_type": "code",
      "metadata": {
        "id": "u5hOKYhY7hpc",
        "colab": {
          "base_uri": "https://localhost:8080/"
        },
        "outputId": "3066dfd7-5a9c-40dc-e9b6-b500afcf0cd4"
      },
      "source": [
        "print(epl.dtypes)"
      ],
      "execution_count": 7,
      "outputs": [
        {
          "output_type": "stream",
          "name": "stdout",
          "text": [
            "Date              datetime64[ns]\n",
            "HomeTeam                  object\n",
            "AwayTeam                  object\n",
            "Outcome(Home)             object\n",
            "Odds_W(Home)             float64\n",
            "Odds_D                   float64\n",
            "Odds_L                   float64\n",
            "HomeRank                   int64\n",
            "AwayRank                   int64\n",
            "HomeLastResult             int64\n",
            "AwayLastResult             int64\n",
            "dtype: object\n"
          ]
        }
      ]
    },
    {
      "cell_type": "markdown",
      "metadata": {
        "id": "qxEdLCi8OPd0"
      },
      "source": [
        "### Exploring and Visualizing Data\n",
        "---\n"
      ]
    },
    {
      "cell_type": "markdown",
      "metadata": {
        "id": "UfQ2pzEsOHxl"
      },
      "source": [
        "Here we provide a bar chart showing the total number of wins, losses, and draws for homes teams across the 3 seasons in our training data. Below the graph we also include the specific counts."
      ]
    },
    {
      "cell_type": "code",
      "metadata": {
        "colab": {
          "base_uri": "https://localhost:8080/",
          "height": 354
        },
        "id": "DirFi8ZGKSBI",
        "outputId": "5fbe8891-7f96-434a-dea2-57dce03a4758"
      },
      "source": [
        "figure = plt.figure()\n",
        "axis = figure.add_axes([0,0,1,1])\n",
        "entries = epl['Outcome(Home)'].value_counts()\n",
        "outcomes = [entries['W'],entries['L'],entries['D']]\n",
        "bot = ['W','L','D']\n",
        "plt.bar(bot,outcomes)"
      ],
      "execution_count": 8,
      "outputs": [
        {
          "output_type": "execute_result",
          "data": {
            "text/plain": [
              "<BarContainer object of 3 artists>"
            ]
          },
          "metadata": {},
          "execution_count": 8
        },
        {
          "output_type": "display_data",
          "data": {
            "text/plain": [
              "<Figure size 432x288 with 1 Axes>"
            ],
            "image/png": "[encoded data removed]"
          },
          "metadata": {
            "needs_background": "light"
          }
        }
      ]
    },
    {
      "cell_type": "code",
      "metadata": {
        "colab": {
          "base_uri": "https://localhost:8080/"
        },
        "id": "a5e2nH8dOWOx",
        "outputId": "b1498af7-2087-4782-8a66-248f1f699a8d"
      },
      "source": [
        "epl['Outcome(Home)'].value_counts()"
      ],
      "execution_count": 9,
      "outputs": [
        {
          "output_type": "execute_result",
          "data": {
            "text/plain": [
              "W    517\n",
              "L    333\n",
              "D    290\n",
              "Name: Outcome(Home), dtype: int64"
            ]
          },
          "metadata": {},
          "execution_count": 9
        }
      ]
    },
    {
      "cell_type": "markdown",
      "metadata": {
        "id": "vQwQy677OPd0"
      },
      "source": [
        "### Modeling and Evaluation\n",
        "---\n"
      ]
    },
    {
      "cell_type": "markdown",
      "metadata": {
        "id": "H_pZVjD0qLWw"
      },
      "source": [
        "To start out data analytics we created one hot vectors for each home and away team that are present in the dataset. These one hot vectors are represented as \"home_oneHot\" and \"away_oneHot.\" We then combine these one hot vectors with the concatenate command included in the pandas library in order to create \"home_away_oneHot.\" That way, every team is represented in the one hot vector for both home and away.\n"
      ]
    },
    {
      "cell_type": "code",
      "metadata": {
        "id": "CPR3yvBMfuJ8"
      },
      "source": [
        "home_oneHot = pd.get_dummies(epl['HomeTeam'], prefix='home')\n",
        "home_oneHot"
      ],
      "execution_count": null,
      "outputs": []
    },
    {
      "cell_type": "code",
      "metadata": {
        "id": "31HW1vqLgtNh"
      },
      "source": [
        "away_oneHot = pd.get_dummies(epl['AwayTeam'], prefix='away')\n",
        "away_oneHot"
      ],
      "execution_count": null,
      "outputs": []
    },
    {
      "cell_type": "code",
      "metadata": {
        "id": "amAbnufZgz4x"
      },
      "source": [
        "home_away_oneHot = pd.concat([home_oneHot, away_oneHot], axis=1)\n",
        "home_away_oneHot"
      ],
      "execution_count": null,
      "outputs": []
    },
    {
      "cell_type": "markdown",
      "metadata": {
        "id": "V07e1yB71IdP"
      },
      "source": [
        "Here we combine the one hot vectors with the other variables that are inside our dataframe into the X_total variable. We use this X_total to train the decision tree classifier and to find the accuracy score. The accuracy score we found was about 40.1%. \n"
      ]
    },
    {
      "cell_type": "code",
      "metadata": {
        "id": "Ep5hNFNm1G4K"
      },
      "source": [
        "X_total = pd.concat([home_away_oneHot, epl[[\"Odds_W(Home)\", \\\n",
        "\"Odds_D\", \"Odds_L\", \"HomeRank\", \"AwayRank\", \"HomeLastResult\", \"AwayLastResult\"]]], axis = 1)\n",
        "X_total"
      ],
      "execution_count": null,
      "outputs": []
    },
    {
      "cell_type": "code",
      "metadata": {
        "id": "gIWAizAd1MMN",
        "colab": {
          "base_uri": "https://localhost:8080/"
        },
        "outputId": "838eee0d-5946-4cb1-e362-617823c71f6d"
      },
      "source": [
        "y_true = epl['Outcome(Home)']\n",
        "y_true"
      ],
      "execution_count": 14,
      "outputs": [
        {
          "output_type": "execute_result",
          "data": {
            "text/plain": [
              "0       L\n",
              "1       D\n",
              "2       D\n",
              "3       W\n",
              "4       W\n",
              "       ..\n",
              "1135    W\n",
              "1136    L\n",
              "1137    L\n",
              "1138    W\n",
              "1139    W\n",
              "Name: Outcome(Home), Length: 1140, dtype: object"
            ]
          },
          "metadata": {},
          "execution_count": 14
        }
      ]
    },
    {
      "cell_type": "code",
      "metadata": {
        "id": "69-NG4h71N8E",
        "colab": {
          "base_uri": "https://localhost:8080/"
        },
        "outputId": "6c6edfff-00f6-45d1-879e-aaec22ef90d0"
      },
      "source": [
        "from sklearn.tree import DecisionTreeClassifier\n",
        "from sklearn.model_selection import cross_val_score\n",
        "dt_epl = DecisionTreeClassifier()\n",
        "dt_epl.fit(X_total, y_true)\n",
        "scores = cross_val_score(dt_epl, X_total, y_true, scoring='accuracy')\n",
        "scores"
      ],
      "execution_count": 15,
      "outputs": [
        {
          "output_type": "execute_result",
          "data": {
            "text/plain": [
              "array([0.39035088, 0.37280702, 0.42982456, 0.44298246, 0.42982456])"
            ]
          },
          "metadata": {},
          "execution_count": 15
        }
      ]
    },
    {
      "cell_type": "code",
      "metadata": {
        "id": "kKsdwQM61P-S",
        "colab": {
          "base_uri": "https://localhost:8080/"
        },
        "outputId": "8fef0f28-063b-42a9-a33f-e2302ba301fb"
      },
      "source": [
        "print(\"The accuracy of predicting on all variables using the Decision Tree model: {}\".format(np.mean(scores)))"
      ],
      "execution_count": 16,
      "outputs": [
        {
          "output_type": "stream",
          "name": "stdout",
          "text": [
            "The accuracy of predicting on all variables using the Decision Tree model: 0.4131578947368421\n"
          ]
        }
      ]
    },
    {
      "cell_type": "markdown",
      "metadata": {
        "id": "ceyRjqpM1Zws"
      },
      "source": [
        "Here is the start of our Random Forest model implementation."
      ]
    },
    {
      "cell_type": "code",
      "metadata": {
        "colab": {
          "base_uri": "https://localhost:8080/"
        },
        "id": "jQLjdb68OPd0",
        "outputId": "4dfe2f00-9c93-40ad-c8f8-0d0fc0ee01d1"
      },
      "source": [
        "from sklearn.ensemble import RandomForestClassifier\n",
        "clf = RandomForestClassifier(random_state=20)\n",
        "scores = cross_val_score(clf, X_total, y_true, scoring='accuracy')\n",
        "print(\"Accuracy: {0:.1f}%\".format(np.mean(scores) * 100))"
      ],
      "execution_count": 19,
      "outputs": [
        {
          "output_type": "stream",
          "name": "stdout",
          "text": [
            "Accuracy: 50.2%\n"
          ]
        }
      ]
    },
    {
      "cell_type": "code",
      "metadata": {
        "colab": {
          "base_uri": "https://localhost:8080/"
        },
        "id": "37fnqmQpFgit",
        "outputId": "d99d400a-710c-46c8-ce26-c0e027875bf7"
      },
      "source": [
        "from sklearn.model_selection import GridSearchCV\n",
        "\n",
        "parameter_space = {\n",
        "\"max_features\": [15, 40, 'auto'],\n",
        "\"n_estimators\": [200, 300],\n",
        "\"min_samples_leaf\": [30, 40, 50],\n",
        "}\n",
        "clf = RandomForestClassifier(random_state=14)\n",
        "grid = GridSearchCV(clf, parameter_space)\n",
        "grid.fit(X_total, y_true)\n",
        "print(\"Accuracy: {0:.1f}%\".format(grid.best_score_ * 100))\n",
        "print(grid.best_estimator_)\n",
        "rf_dt_epl = grid.best_estimator_"
      ],
      "execution_count": 20,
      "outputs": [
        {
          "output_type": "stream",
          "name": "stdout",
          "text": [
            "Accuracy: 54.2%\n",
            "RandomForestClassifier(max_features=40, min_samples_leaf=30, n_estimators=300,\n",
            "                       random_state=14)\n"
          ]
        }
      ]
    },
    {
      "cell_type": "markdown",
      "metadata": {
        "id": "fxMthz3sqwBl"
      },
      "source": [
        "When we ran an accuracy score against a Random Forest Classifier (without tuning), we achieved an average accuracy of 50.2%. Upon tuning to find the best estimators, we were able to raise the accuracy score to 54.2%, which is a 4% increase. We encountered a draw-back where the Random Forest Classifier would have increased accuracy if we focused strictly on predicting Wins and Losses and ignored draws, but then that would not be the true accuracy of our predictions, since draws happen all the time. We sacrificed higher accuracy in order to keep the accuracy score true to the data, which is why it sits near 55%. We came upon this finding by trying different combinations of tuning parameters and realized that higher accuracy values tend to be associated with our model not predicting Draws at all, or predicting very few of them. We stuck with a model that generates more evenly-distributed predictions.\n",
        "\n",
        "\n",
        "Below we include the predictions based on the results from the Random Forest. Our model predicts that there would be a total of 716 Wins, 289 Loses, and 135 Draws for home teams. \n"
      ]
    },
    {
      "cell_type": "code",
      "metadata": {
        "colab": {
          "base_uri": "https://localhost:8080/"
        },
        "id": "bKGwhYTfE6Wr",
        "outputId": "0b511225-6856-4e04-a719-10906df81eba"
      },
      "source": [
        "y_true_1 = pd.DataFrame(rf_dt_epl.predict(X_total))\n",
        "y_true_1.value_counts()"
      ],
      "execution_count": 21,
      "outputs": [
        {
          "output_type": "execute_result",
          "data": {
            "text/plain": [
              "W    716\n",
              "L    289\n",
              "D    135\n",
              "dtype: int64"
            ]
          },
          "metadata": {},
          "execution_count": 21
        }
      ]
    },
    {
      "cell_type": "markdown",
      "metadata": {
        "id": "R8-RZAOf6QT3"
      },
      "source": [
        "####Standings on training"
      ]
    },
    {
      "cell_type": "markdown",
      "metadata": {
        "id": "VtV5Vlvuq3Ri"
      },
      "source": [
        "\n",
        "\n",
        "Since our model only predicts accuracy of each game outcome, we will construct the standings and check the accuracy of our predicted top-3 and bottom-3 teams for each individual season in our training dataset."
      ]
    },
    {
      "cell_type": "markdown",
      "metadata": {
        "id": "gdrcZuqVrb34"
      },
      "source": [
        "Here we added the predicted result from our model back into the dataframe."
      ]
    },
    {
      "cell_type": "code",
      "metadata": {
        "id": "8rVv3o1p6i6V"
      },
      "source": [
        "epl[\"PredResult\"] = y_true_1\n",
        "epl"
      ],
      "execution_count": null,
      "outputs": []
    },
    {
      "cell_type": "markdown",
      "metadata": {
        "id": "XIwWS5QtrkLe"
      },
      "source": [
        "(For the sake of simplicity, we manually input the actual top-3 and bottom-3 teams for each season)"
      ]
    },
    {
      "cell_type": "code",
      "metadata": {
        "id": "t5rW07NuqADo"
      },
      "source": [
        "top_act_15_16 = pd.array(['Leicester', 'Arsenal', 'Tottenham'], dtype=object)\n",
        "bottom_act_15_16 = pd.array(['Aston Villa', 'Norwich', 'Newcastle'], dtype=object)\n",
        "\n",
        "top_act_16_17 = pd.array(['Chelsea', 'Tottenham', 'Man City'], dtype=object)\n",
        "bottom_act_16_17 = pd.array(['Sunderland', 'Middlesbrough', 'Hull'], dtype=object)\n",
        "\n",
        "top_act_17_18 = pd.array(['Man City', 'Man United', 'Tottenham'], dtype=object)\n",
        "bottom_act_17_18 = pd.array(['West Brom', 'Stoke', 'Swansea'], dtype=object)"
      ],
      "execution_count": 23,
      "outputs": []
    },
    {
      "cell_type": "markdown",
      "metadata": {
        "id": "PKDvB2HWrsWp"
      },
      "source": [
        "Here we separate the master dataframe into each individual season. These are marked as 15_16, 16_17, and 17_18 respectively. \n"
      ]
    },
    {
      "cell_type": "code",
      "metadata": {
        "id": "ETVkl1Z-8PIe"
      },
      "source": [
        "epl_pred_15_16 = epl[(epl['Date'] >= '2015-08-08') & (epl['Date'] <= '2016-05-17')]\n",
        "epl_pred_16_17 = epl[(epl['Date'] >= '2016-08-13') & (epl['Date'] <= '2017-05-21')]\n",
        "epl_pred_17_18 = epl[(epl['Date'] >= '2017-08-11') & (epl['Date'] <= '2018-05-13')]"
      ],
      "execution_count": 24,
      "outputs": []
    },
    {
      "cell_type": "code",
      "metadata": {
        "colab": {
          "base_uri": "https://localhost:8080/",
          "height": 661
        },
        "id": "x-rs4896zGpk",
        "outputId": "1a317791-1719-45f0-a021-797704abd71b"
      },
      "source": [
        "epl_pred_15_16"
      ],
      "execution_count": 25,
      "outputs": [
        {
          "output_type": "execute_result",
          "data": {
            "text/plain": [
              "          Date     HomeTeam     AwayTeam Outcome(Home)  Odds_W(Home)  Odds_D  \\\n",
              "0   2015-08-08  Bournemouth  Aston Villa             L         7.024   3.303   \n",
              "1   2015-08-08      Chelsea      Swansea             D         6.697   4.338   \n",
              "2   2015-08-08      Everton      Watford             D         6.842   3.514   \n",
              "3   2015-08-08    Leicester   Sunderland             W         7.000   3.207   \n",
              "4   2015-08-08   Man United    Tottenham             W         6.477   3.651   \n",
              "..         ...          ...          ...           ...           ...     ...   \n",
              "375 2016-05-15        Stoke     West Ham             W         8.666   3.537   \n",
              "376 2016-05-15      Swansea     Man City             D        10.855   4.778   \n",
              "377 2016-05-15      Watford   Sunderland             D         7.645   3.465   \n",
              "378 2016-05-15    West Brom    Liverpool             D         7.907   3.385   \n",
              "379 2016-05-17   Man United  Bournemouth             W         7.295   3.742   \n",
              "\n",
              "     Odds_L  HomeRank  AwayRank  HomeLastResult  AwayLastResult PredResult  \n",
              "0     3.748        20        17               0               0          W  \n",
              "1     8.967         1         8               0               0          W  \n",
              "2     4.852        11        20               0               0          W  \n",
              "3     3.742        14        16               0               0          W  \n",
              "4     5.318         4         5               0               0          W  \n",
              "..      ...       ...       ...             ...             ...        ...  \n",
              "375   2.307         9        12              -1               0          L  \n",
              "376   2.028         8         2               0               1          L  \n",
              "377   3.429        20        16               1               1          W  \n",
              "378   2.866        13         6              -1              -1          D  \n",
              "379   4.753         4        20               0              -1          W  \n",
              "\n",
              "[380 rows x 12 columns]"
            ],
            "text/html": [
              "\n",
              "  <div id=\"df-f461c373-a614-41a5-af6b-3cf8a14ef982\">\n",
              "    <div class=\"colab-df-container\">\n",
              "      <div>\n",
              "<style scoped>\n",
              "    .dataframe tbody tr th:only-of-type {\n",
              "        vertical-align: middle;\n",
              "    }\n",
              "\n",
              "    .dataframe tbody tr th {\n",
              "        vertical-align: top;\n",
              "    }\n",
              "\n",
              "    .dataframe thead th {\n",
              "        text-align: right;\n",
              "    }\n",
              "</style>\n",
              "<table border=\"1\" class=\"dataframe\">\n",
              "  <thead>\n",
              "    <tr style=\"text-align: right;\">\n",
              "      <th></th>\n",
              "      <th>Date</th>\n",
              "      <th>HomeTeam</th>\n",
              "      <th>AwayTeam</th>\n",
              "      <th>Outcome(Home)</th>\n",
              "      <th>Odds_W(Home)</th>\n",
              "      <th>Odds_D</th>\n",
              "      <th>Odds_L</th>\n",
              "      <th>HomeRank</th>\n",
              "      <th>AwayRank</th>\n",
              "      <th>HomeLastResult</th>\n",
              "      <th>AwayLastResult</th>\n",
              "      <th>PredResult</th>\n",
              "    </tr>\n",
              "  </thead>\n",
              "  <tbody>\n",
              "    <tr>\n",
              "      <th>0</th>\n",
              "      <td>2015-08-08</td>\n",
              "      <td>Bournemouth</td>\n",
              "      <td>Aston Villa</td>\n",
              "      <td>L</td>\n",
              "      <td>7.024</td>\n",
              "      <td>3.303</td>\n",
              "      <td>3.748</td>\n",
              "      <td>20</td>\n",
              "      <td>17</td>\n",
              "      <td>0</td>\n",
              "      <td>0</td>\n",
              "      <td>W</td>\n",
              "    </tr>\n",
              "    <tr>\n",
              "      <th>1</th>\n",
              "      <td>2015-08-08</td>\n",
              "      <td>Chelsea</td>\n",
              "      <td>Swansea</td>\n",
              "      <td>D</td>\n",
              "      <td>6.697</td>\n",
              "      <td>4.338</td>\n",
              "      <td>8.967</td>\n",
              "      <td>1</td>\n",
              "      <td>8</td>\n",
              "      <td>0</td>\n",
              "      <td>0</td>\n",
              "      <td>W</td>\n",
              "    </tr>\n",
              "    <tr>\n",
              "      <th>2</th>\n",
              "      <td>2015-08-08</td>\n",
              "      <td>Everton</td>\n",
              "      <td>Watford</td>\n",
              "      <td>D</td>\n",
              "      <td>6.842</td>\n",
              "      <td>3.514</td>\n",
              "      <td>4.852</td>\n",
              "      <td>11</td>\n",
              "      <td>20</td>\n",
              "      <td>0</td>\n",
              "      <td>0</td>\n",
              "      <td>W</td>\n",
              "    </tr>\n",
              "    <tr>\n",
              "      <th>3</th>\n",
              "      <td>2015-08-08</td>\n",
              "      <td>Leicester</td>\n",
              "      <td>Sunderland</td>\n",
              "      <td>W</td>\n",
              "      <td>7.000</td>\n",
              "      <td>3.207</td>\n",
              "      <td>3.742</td>\n",
              "      <td>14</td>\n",
              "      <td>16</td>\n",
              "      <td>0</td>\n",
              "      <td>0</td>\n",
              "      <td>W</td>\n",
              "    </tr>\n",
              "    <tr>\n",
              "      <th>4</th>\n",
              "      <td>2015-08-08</td>\n",
              "      <td>Man United</td>\n",
              "      <td>Tottenham</td>\n",
              "      <td>W</td>\n",
              "      <td>6.477</td>\n",
              "      <td>3.651</td>\n",
              "      <td>5.318</td>\n",
              "      <td>4</td>\n",
              "      <td>5</td>\n",
              "      <td>0</td>\n",
              "      <td>0</td>\n",
              "      <td>W</td>\n",
              "    </tr>\n",
              "    <tr>\n",
              "      <th>...</th>\n",
              "      <td>...</td>\n",
              "      <td>...</td>\n",
              "      <td>...</td>\n",
              "      <td>...</td>\n",
              "      <td>...</td>\n",
              "      <td>...</td>\n",
              "      <td>...</td>\n",
              "      <td>...</td>\n",
              "      <td>...</td>\n",
              "      <td>...</td>\n",
              "      <td>...</td>\n",
              "      <td>...</td>\n",
              "    </tr>\n",
              "    <tr>\n",
              "      <th>375</th>\n",
              "      <td>2016-05-15</td>\n",
              "      <td>Stoke</td>\n",
              "      <td>West Ham</td>\n",
              "      <td>W</td>\n",
              "      <td>8.666</td>\n",
              "      <td>3.537</td>\n",
              "      <td>2.307</td>\n",
              "      <td>9</td>\n",
              "      <td>12</td>\n",
              "      <td>-1</td>\n",
              "      <td>0</td>\n",
              "      <td>L</td>\n",
              "    </tr>\n",
              "    <tr>\n",
              "      <th>376</th>\n",
              "      <td>2016-05-15</td>\n",
              "      <td>Swansea</td>\n",
              "      <td>Man City</td>\n",
              "      <td>D</td>\n",
              "      <td>10.855</td>\n",
              "      <td>4.778</td>\n",
              "      <td>2.028</td>\n",
              "      <td>8</td>\n",
              "      <td>2</td>\n",
              "      <td>0</td>\n",
              "      <td>1</td>\n",
              "      <td>L</td>\n",
              "    </tr>\n",
              "    <tr>\n",
              "      <th>377</th>\n",
              "      <td>2016-05-15</td>\n",
              "      <td>Watford</td>\n",
              "      <td>Sunderland</td>\n",
              "      <td>D</td>\n",
              "      <td>7.645</td>\n",
              "      <td>3.465</td>\n",
              "      <td>3.429</td>\n",
              "      <td>20</td>\n",
              "      <td>16</td>\n",
              "      <td>1</td>\n",
              "      <td>1</td>\n",
              "      <td>W</td>\n",
              "    </tr>\n",
              "    <tr>\n",
              "      <th>378</th>\n",
              "      <td>2016-05-15</td>\n",
              "      <td>West Brom</td>\n",
              "      <td>Liverpool</td>\n",
              "      <td>D</td>\n",
              "      <td>7.907</td>\n",
              "      <td>3.385</td>\n",
              "      <td>2.866</td>\n",
              "      <td>13</td>\n",
              "      <td>6</td>\n",
              "      <td>-1</td>\n",
              "      <td>-1</td>\n",
              "      <td>D</td>\n",
              "    </tr>\n",
              "    <tr>\n",
              "      <th>379</th>\n",
              "      <td>2016-05-17</td>\n",
              "      <td>Man United</td>\n",
              "      <td>Bournemouth</td>\n",
              "      <td>W</td>\n",
              "      <td>7.295</td>\n",
              "      <td>3.742</td>\n",
              "      <td>4.753</td>\n",
              "      <td>4</td>\n",
              "      <td>20</td>\n",
              "      <td>0</td>\n",
              "      <td>-1</td>\n",
              "      <td>W</td>\n",
              "    </tr>\n",
              "  </tbody>\n",
              "</table>\n",
              "<p>380 rows × 12 columns</p>\n",
              "</div>\n",
              "      <button class=\"colab-df-convert\" onclick=\"convertToInteractive('df-f461c373-a614-41a5-af6b-3cf8a14ef982')\"\n",
              "              title=\"Convert this dataframe to an interactive table.\"\n",
              "              style=\"display:none;\">\n",
              "        \n",
              "  <svg xmlns=\"http://www.w3.org/2000/svg\" height=\"24px\"viewBox=\"0 0 24 24\"\n",
              "       width=\"24px\">\n",
              "    <path d=\"M0 0h24v24H0V0z\" fill=\"none\"/>\n",
              "    <path d=\"M18.56 5.44l.94 2.06.94-2.06 2.06-.94-2.06-.94-.94-2.06-.94 2.06-2.06.94zm-11 1L8.5 8.5l.94-2.06 2.06-.94-2.06-.94L8.5 2.5l-.94 2.06-2.06.94zm10 10l.94 2.06.94-2.06 2.06-.94-2.06-.94-.94-2.06-.94 2.06-2.06.94z\"/><path d=\"M17.41 7.96l-1.37-1.37c-.4-.4-.92-.59-1.43-.59-.52 0-1.04.2-1.43.59L10.3 9.45l-7.72 7.72c-.78.78-.78 2.05 0 2.83L4 21.41c.39.39.9.59 1.41.59.51 0 1.02-.2 1.41-.59l7.78-7.78 2.81-2.81c.8-.78.8-2.07 0-2.86zM5.41 20L4 18.59l7.72-7.72 1.47 1.35L5.41 20z\"/>\n",
              "  </svg>\n",
              "      </button>\n",
              "      \n",
              "  <style>\n",
              "    .colab-df-container {\n",
              "      display:flex;\n",
              "      flex-wrap:wrap;\n",
              "      gap: 12px;\n",
              "    }\n",
              "\n",
              "    .colab-df-convert {\n",
              "      background-color: #E8F0FE;\n",
              "      border: none;\n",
              "      border-radius: 50%;\n",
              "      cursor: pointer;\n",
              "      display: none;\n",
              "      fill: #1967D2;\n",
              "      height: 32px;\n",
              "      padding: 0 0 0 0;\n",
              "      width: 32px;\n",
              "    }\n",
              "\n",
              "    .colab-df-convert:hover {\n",
              "      background-color: #E2EBFA;\n",
              "      box-shadow: 0px 1px 2px rgba(60, 64, 67, 0.3), 0px 1px 3px 1px rgba(60, 64, 67, 0.15);\n",
              "      fill: #174EA6;\n",
              "    }\n",
              "\n",
              "    [theme=dark] .colab-df-convert {\n",
              "      background-color: #3B4455;\n",
              "      fill: #D2E3FC;\n",
              "    }\n",
              "\n",
              "    [theme=dark] .colab-df-convert:hover {\n",
              "      background-color: #434B5C;\n",
              "      box-shadow: 0px 1px 3px 1px rgba(0, 0, 0, 0.15);\n",
              "      filter: drop-shadow(0px 1px 2px rgba(0, 0, 0, 0.3));\n",
              "      fill: #FFFFFF;\n",
              "    }\n",
              "  </style>\n",
              "\n",
              "      <script>\n",
              "        const buttonEl =\n",
              "          document.querySelector('#df-f461c373-a614-41a5-af6b-3cf8a14ef982 button.colab-df-convert');\n",
              "        buttonEl.style.display =\n",
              "          google.colab.kernel.accessAllowed ? 'block' : 'none';\n",
              "\n",
              "        async function convertToInteractive(key) {\n",
              "          const element = document.querySelector('#df-f461c373-a614-41a5-af6b-3cf8a14ef982');\n",
              "          const dataTable =\n",
              "            await google.colab.kernel.invokeFunction('convertToInteractive',\n",
              "                                                     [key], {});\n",
              "          if (!dataTable) return;\n",
              "\n",
              "          const docLinkHtml = 'Like what you see? Visit the ' +\n",
              "            '<a target=\"_blank\" href=https://colab.research.google.com/notebooks/data_table.ipynb>data table notebook</a>'\n",
              "            + ' to learn more about interactive tables.';\n",
              "          element.innerHTML = '';\n",
              "          dataTable['output_type'] = 'display_data';\n",
              "          await google.colab.output.renderOutput(dataTable, element);\n",
              "          const docLink = document.createElement('div');\n",
              "          docLink.innerHTML = docLinkHtml;\n",
              "          element.appendChild(docLink);\n",
              "        }\n",
              "      </script>\n",
              "    </div>\n",
              "  </div>\n",
              "  "
            ]
          },
          "metadata": {},
          "execution_count": 25
        }
      ]
    },
    {
      "cell_type": "markdown",
      "metadata": {
        "id": "tPoMJ-YMrzN1"
      },
      "source": [
        "The below code constructs the predicted top 3 and bottom 3 teams in the 15_16 season. We took the liberty of commenting in the code to make it easier to read."
      ]
    },
    {
      "cell_type": "code",
      "metadata": {
        "id": "rED9zp7Ta9Ra"
      },
      "source": [
        "#create empty dataframe with W, D, L for each team in the season\n",
        "epl_pred_standings_15_16 = pd.DataFrame(index=epl_pred_15_16['HomeTeam'].unique(), columns=['W', 'D', 'L']).fillna(0)\n",
        "for team in epl_pred_15_16['HomeTeam'].unique():\n",
        "  #add every W, D, L of each team at home to the standings dataframe\n",
        "  epl_pred_standings_15_16.loc[team]['W'] = len(epl_pred_15_16[(epl_pred_15_16['HomeTeam'] == team) & (epl_pred_15_16['PredResult'] == 'W')])\n",
        "  epl_pred_standings_15_16.loc[team]['L'] = len(epl_pred_15_16[(epl_pred_15_16['HomeTeam'] == team) & (epl_pred_15_16['PredResult'] == 'L')])\n",
        "  epl_pred_standings_15_16.loc[team]['D'] = len(epl_pred_15_16[(epl_pred_15_16['HomeTeam'] == team) & (epl_pred_15_16['PredResult'] == 'D')])\n",
        "  #add every W, D, L of the same team playing away to the dataframe\n",
        "  epl_pred_standings_15_16.loc[team]['W'] = epl_pred_standings_15_16.loc[team]['W'] + len(epl_pred_15_16[(epl_pred_15_16['AwayTeam'] == team) & (epl_pred_15_16['PredResult'] == 'L')])\n",
        "  epl_pred_standings_15_16.loc[team]['L'] = epl_pred_standings_15_16.loc[team]['L'] + len(epl_pred_15_16[(epl_pred_15_16['AwayTeam'] == team) & (epl_pred_15_16['PredResult'] == 'W')])\n",
        "  epl_pred_standings_15_16.loc[team]['D'] = epl_pred_standings_15_16.loc[team]['D'] + len(epl_pred_15_16[(epl_pred_15_16['AwayTeam'] == team) & (epl_pred_15_16['PredResult'] == 'D')])\n",
        "#calculate the end-of-season points for each team based on formula\n",
        "epl_pred_standings_15_16['Points'] = epl_pred_standings_15_16.apply(lambda row: 3*row.W + row.D + 0*row.L, axis=1)\n",
        "\n",
        "#In real life, no teams will be tied at the number of points in a season as there are multiple tiebreakers such as number of goals scored\n",
        "#and so on. However, our dataset does not contain the necessary tiebreaker data. In order to not penalize our model accuracy, the following\n",
        "#code creates a list of the teams with the top number of points including equal values. For example, if there are 5 teams tied for the top\n",
        "#amount of points, our list will contain all of them. Conversely, if the second and third rated teams are tied, the list will not include\n",
        "#the fourth highest, as there is a clear delineation of the top-3 teams. \n",
        "s = epl_pred_standings_15_16['Points'].drop_duplicates().nlargest(1)\n",
        "top_pred_15_16 = epl_pred_standings_15_16[epl_pred_standings_15_16['Points'].isin(s)]\n",
        "if len(top_pred_15_16) < 3:\n",
        "  s = epl_pred_standings_15_16['Points'].drop_duplicates().nlargest(2)\n",
        "  top_pred_15_16 = epl_pred_standings_15_16[epl_pred_standings_15_16['Points'].isin(s)]\n",
        "  if len(top_pred_15_16) < 3:\n",
        "    s = epl_pred_standings_15_16['Points'].drop_duplicates().nlargest(3)\n",
        "    top_pred_15_16 = epl_pred_standings_15_16[epl_pred_standings_15_16['Points'].isin(s)]\n",
        "top_pred_15_16 = top_pred_15_16.sort_values(by='Points', ascending=False)\n",
        "top_pred_15_16 = top_pred_15_16.index.array\n",
        "\n",
        "#same as above\n",
        "s = epl_pred_standings_15_16['Points'].drop_duplicates().nsmallest(1)\n",
        "bottom_pred_15_16 = epl_pred_standings_15_16[epl_pred_standings_15_16['Points'].isin(s)]\n",
        "if len(bottom_pred_15_16) < 3:\n",
        "  s = epl_pred_standings_15_16['Points'].drop_duplicates().nsmallest(2)\n",
        "  bottom_pred_15_16 = epl_pred_standings_15_16[epl_pred_standings_15_16['Points'].isin(s)]\n",
        "  if len(bottom_pred_15_16) < 3:\n",
        "    s = epl_pred_standings_15_16['Points'].drop_duplicates().nsmallest(3)\n",
        "    bottom_pred_15_16 = epl_pred_standings_15_16[epl_pred_standings_15_16['Points'].isin(s)]\n",
        "bottom_pred_15_16 = bottom_pred_15_16.sort_values(by='Points', ascending=False)\n",
        "bottom_pred_15_16 = bottom_pred_15_16.index.array\n"
      ],
      "execution_count": 26,
      "outputs": []
    },
    {
      "cell_type": "code",
      "metadata": {
        "colab": {
          "base_uri": "https://localhost:8080/"
        },
        "id": "_HFQKuK43uGc",
        "outputId": "f725bc41-74f6-45cc-c7fc-af58b444d71f"
      },
      "source": [
        "#checks if the actual top-3 teams are present in our predicted top-3 array and constructs T/F vector\n",
        "top_15_16_accuracy = np.isin(top_act_15_16, top_pred_15_16)\n",
        "top_15_16_accuracy\n",
        "\n",
        "#same as above\n",
        "bottom_15_16_accuracy = np.isin(bottom_act_15_16, bottom_pred_15_16)\n",
        "bottom_15_16_accuracy\n",
        "\n",
        "total_15_16_accuracy=np.concatenate((top_15_16_accuracy, bottom_15_16_accuracy))\n",
        "total_15_16_accuracy\n",
        "\n",
        "#final accuracy for season\n",
        "np.count_nonzero(total_15_16_accuracy == True)/len(total_15_16_accuracy)"
      ],
      "execution_count": 27,
      "outputs": [
        {
          "output_type": "execute_result",
          "data": {
            "text/plain": [
              "0.3333333333333333"
            ]
          },
          "metadata": {},
          "execution_count": 27
        }
      ]
    },
    {
      "cell_type": "markdown",
      "metadata": {
        "id": "7rwwSB7cvY7j"
      },
      "source": [
        "The final accuracy score for the 15_16 season came out to be 33.3%.\n",
        "\n",
        "\n",
        "Below we are doing the same calculations as above, but for the 16_17 season. We did not comment the below code for redundancy purposes"
      ]
    },
    {
      "cell_type": "code",
      "metadata": {
        "id": "596dhdvJwIXU",
        "colab": {
          "base_uri": "https://localhost:8080/"
        },
        "outputId": "787832f1-56db-4f17-8962-bcb86b533af3"
      },
      "source": [
        "epl_pred_standings_16_17 = pd.DataFrame(index=epl_pred_16_17['HomeTeam'].unique(), columns=['W', 'D', 'L']).fillna(0)\n",
        "for team in epl_pred_16_17['HomeTeam'].unique():\n",
        "  epl_pred_standings_16_17.loc[team]['W'] = len(epl_pred_16_17[(epl_pred_16_17['HomeTeam'] == team) & (epl_pred_16_17['PredResult'] == 'W')])\n",
        "  epl_pred_standings_16_17.loc[team]['L'] = len(epl_pred_16_17[(epl_pred_16_17['HomeTeam'] == team) & (epl_pred_16_17['PredResult'] == 'L')])\n",
        "  epl_pred_standings_16_17.loc[team]['D'] = len(epl_pred_16_17[(epl_pred_16_17['HomeTeam'] == team) & (epl_pred_16_17['PredResult'] == 'D')])\n",
        "  epl_pred_standings_16_17.loc[team]['W'] = epl_pred_standings_16_17.loc[team]['W'] + len(epl_pred_16_17[(epl_pred_16_17['AwayTeam'] == team) & (epl_pred_16_17['PredResult'] == 'L')])\n",
        "  epl_pred_standings_16_17.loc[team]['L'] = epl_pred_standings_16_17.loc[team]['L'] + len(epl_pred_16_17[(epl_pred_16_17['AwayTeam'] == team) & (epl_pred_16_17['PredResult'] == 'W')])\n",
        "  epl_pred_standings_16_17.loc[team]['D'] = epl_pred_standings_16_17.loc[team]['D'] + len(epl_pred_16_17[(epl_pred_16_17['AwayTeam'] == team) & (epl_pred_16_17['PredResult'] == 'D')])\n",
        "epl_pred_standings_16_17['Points'] = epl_pred_standings_16_17.apply(lambda row: 3*row.W + row.D + 0*row.L, axis=1)\n",
        "\n",
        "s = epl_pred_standings_16_17['Points'].drop_duplicates().nlargest(1)\n",
        "top_pred_16_17 = epl_pred_standings_16_17[epl_pred_standings_16_17['Points'].isin(s)]\n",
        "if len(top_pred_16_17) < 3:\n",
        "  s = epl_pred_standings_16_17['Points'].drop_duplicates().nlargest(2)\n",
        "  top_pred_16_17 = epl_pred_standings_16_17[epl_pred_standings_16_17['Points'].isin(s)]\n",
        "  if len(top_pred_16_17) < 3:\n",
        "    s = epl_pred_standings_16_17['Points'].drop_duplicates().nlargest(3)\n",
        "    top_pred_16_17 = epl_pred_standings_16_17[epl_pred_standings_16_17['Points'].isin(s)]\n",
        "top_pred_16_17 = top_pred_16_17.sort_values(by='Points', ascending=False)\n",
        "top_pred_16_17 = top_pred_16_17.index.array\n",
        "print(top_pred_16_17)\n",
        "\n",
        "s = epl_pred_standings_16_17['Points'].drop_duplicates().nsmallest(1)\n",
        "bottom_pred_16_17 = epl_pred_standings_16_17[epl_pred_standings_16_17['Points'].isin(s)]\n",
        "if len(bottom_pred_16_17) < 3:\n",
        "  s = epl_pred_standings_16_17['Points'].drop_duplicates().nsmallest(2)\n",
        "  bottom_pred_16_17 = epl_pred_standings_16_17[epl_pred_standings_16_17['Points'].isin(s)]\n",
        "  if len(bottom_pred_16_17) < 3:\n",
        "    s = epl_pred_standings_16_17['Points'].drop_duplicates().nsmallest(3)\n",
        "    bottom_pred_16_17 = epl_pred_standings_16_17[epl_pred_standings_16_17['Points'].isin(s)]\n",
        "bottom_pred_16_17 = bottom_pred_16_17.sort_values(by='Points', ascending=False)\n",
        "bottom_pred_16_17 = bottom_pred_16_17.index.array\n",
        "print(bottom_pred_16_17)"
      ],
      "execution_count": 29,
      "outputs": [
        {
          "output_type": "stream",
          "name": "stdout",
          "text": [
            "<PandasArray>\n",
            "['Man City', 'Chelsea', 'Liverpool']\n",
            "Length: 3, dtype: object\n",
            "<PandasArray>\n",
            "['Hull', 'Burnley', 'Sunderland']\n",
            "Length: 3, dtype: object\n"
          ]
        }
      ]
    },
    {
      "cell_type": "code",
      "metadata": {
        "colab": {
          "base_uri": "https://localhost:8080/"
        },
        "id": "YL4fRqH66xSQ",
        "outputId": "e7244d52-69ab-4e2f-fcc1-c7148d8ec5ff"
      },
      "source": [
        "top_16_17_accuracy = np.isin(top_act_16_17, top_pred_16_17)\n",
        "top_16_17_accuracy\n",
        "\n",
        "bottom_16_17_accuracy = np.isin(bottom_act_16_17, bottom_pred_16_17)\n",
        "bottom_16_17_accuracy\n",
        "\n",
        "total_16_17_accuracy=np.concatenate((top_16_17_accuracy, bottom_16_17_accuracy))\n",
        "total_16_17_accuracy\n",
        "\n",
        "np.count_nonzero(total_16_17_accuracy == True)/len(total_16_17_accuracy)"
      ],
      "execution_count": 30,
      "outputs": [
        {
          "output_type": "execute_result",
          "data": {
            "text/plain": [
              "0.6666666666666666"
            ]
          },
          "metadata": {},
          "execution_count": 30
        }
      ]
    },
    {
      "cell_type": "markdown",
      "metadata": {
        "id": "WF347y82mkhs"
      },
      "source": [
        "The accuracy score for the 16_17 season was 66% which is much better than the 15_16 season."
      ]
    },
    {
      "cell_type": "code",
      "metadata": {
        "id": "XGpSWBi1x3nE",
        "colab": {
          "base_uri": "https://localhost:8080/"
        },
        "outputId": "3564d6d6-5303-4ff5-87e1-7c9a64742dcb"
      },
      "source": [
        "epl_pred_standings_17_18 = pd.DataFrame(index=epl_pred_17_18['HomeTeam'].unique(), columns=['W', 'D', 'L']).fillna(0)\n",
        "for team in epl_pred_17_18['HomeTeam'].unique():\n",
        "  epl_pred_standings_17_18.loc[team]['W'] = len(epl_pred_17_18[(epl_pred_17_18['HomeTeam'] == team) & (epl_pred_17_18['PredResult'] == 'W')])\n",
        "  epl_pred_standings_17_18.loc[team]['L'] = len(epl_pred_17_18[(epl_pred_17_18['HomeTeam'] == team) & (epl_pred_17_18['PredResult'] == 'L')])\n",
        "  epl_pred_standings_17_18.loc[team]['D'] = len(epl_pred_17_18[(epl_pred_17_18['HomeTeam'] == team) & (epl_pred_17_18['PredResult'] == 'D')])\n",
        "  epl_pred_standings_17_18.loc[team]['W'] = epl_pred_standings_17_18.loc[team]['W'] + len(epl_pred_17_18[(epl_pred_17_18['AwayTeam'] == team) & (epl_pred_17_18['PredResult'] == 'L')])\n",
        "  epl_pred_standings_17_18.loc[team]['L'] = epl_pred_standings_17_18.loc[team]['L'] + len(epl_pred_17_18[(epl_pred_17_18['AwayTeam'] == team) & (epl_pred_17_18['PredResult'] == 'W')])\n",
        "  epl_pred_standings_17_18.loc[team]['D'] = epl_pred_standings_17_18.loc[team]['D'] + len(epl_pred_17_18[(epl_pred_17_18['AwayTeam'] == team) & (epl_pred_17_18['PredResult'] == 'D')])\n",
        "epl_pred_standings_17_18['Points'] = epl_pred_standings_17_18.apply(lambda row: 3*row.W + row.D + 0*row.L, axis=1)\n",
        "\n",
        "s = epl_pred_standings_17_18['Points'].drop_duplicates().nlargest(1)\n",
        "top_pred_17_18 = epl_pred_standings_17_18[epl_pred_standings_17_18['Points'].isin(s)]\n",
        "if len(top_pred_17_18) < 3:\n",
        "  s = epl_pred_standings_17_18['Points'].drop_duplicates().nlargest(2)\n",
        "  top_pred_17_18 = epl_pred_standings_17_18[epl_pred_standings_17_18['Points'].isin(s)]\n",
        "  if len(top_pred_17_18) < 3:\n",
        "    s = epl_pred_standings_17_18['Points'].drop_duplicates().nlargest(3)\n",
        "    top_pred_17_18 = epl_pred_standings_17_18[epl_pred_standings_17_18['Points'].isin(s)]\n",
        "top_pred_17_18 = top_pred_17_18.sort_values(by='Points', ascending=False)\n",
        "top_pred_17_18 = top_pred_17_18.index.array\n",
        "print(top_pred_17_18)\n",
        "\n",
        "s = epl_pred_standings_17_18['Points'].drop_duplicates().nsmallest(1)\n",
        "bottom_pred_17_18 = epl_pred_standings_17_18[epl_pred_standings_17_18['Points'].isin(s)]\n",
        "if len(bottom_pred_17_18) < 3:\n",
        "  s = epl_pred_standings_17_18['Points'].drop_duplicates().nsmallest(2)\n",
        "  bottom_pred_17_18 = epl_pred_standings_17_18[epl_pred_standings_17_18['Points'].isin(s)]\n",
        "  if len(bottom_pred_17_18) < 3:\n",
        "    s = epl_pred_standings_17_18['Points'].drop_duplicates().nsmallest(3)\n",
        "    bottom_pred_17_18 = epl_pred_standings_17_18[epl_pred_standings_17_18['Points'].isin(s)]\n",
        "bottom_pred_17_18 = bottom_pred_17_18.sort_values(by='Points', ascending=False)\n",
        "bottom_pred_17_18 = bottom_pred_17_18.index.array\n",
        "print(bottom_pred_17_18)"
      ],
      "execution_count": 31,
      "outputs": [
        {
          "output_type": "stream",
          "name": "stdout",
          "text": [
            "<PandasArray>\n",
            "['Man City', 'Chelsea', 'Liverpool']\n",
            "Length: 3, dtype: object\n",
            "<PandasArray>\n",
            "['West Brom', 'Brighton', 'Huddersfield']\n",
            "Length: 3, dtype: object\n"
          ]
        }
      ]
    },
    {
      "cell_type": "code",
      "metadata": {
        "id": "SJmbkTuNzW_q",
        "colab": {
          "base_uri": "https://localhost:8080/"
        },
        "outputId": "c333ac36-61da-4256-f907-e1c94d3261c9"
      },
      "source": [
        "top_17_18_accuracy = np.isin(top_act_17_18, top_pred_17_18)\n",
        "top_17_18_accuracy\n",
        "\n",
        "bottom_17_18_accuracy = np.isin(bottom_act_17_18, bottom_pred_17_18)\n",
        "bottom_17_18_accuracy\n",
        "\n",
        "total_17_18_accuracy=np.concatenate((top_17_18_accuracy, bottom_17_18_accuracy))\n",
        "total_17_18_accuracy\n",
        "\n",
        "np.count_nonzero(total_17_18_accuracy == True)/len(total_17_18_accuracy)"
      ],
      "execution_count": 32,
      "outputs": [
        {
          "output_type": "execute_result",
          "data": {
            "text/plain": [
              "0.3333333333333333"
            ]
          },
          "metadata": {},
          "execution_count": 32
        }
      ]
    },
    {
      "cell_type": "markdown",
      "metadata": {
        "id": "zEAhn0lYvtt5"
      },
      "source": [
        "For the 17_18 season we got a accuracy score of 33%.\n",
        "\n",
        "Below we calculate the average accuracy for every season in the trianing data. This turned out to be 44% accuracy.\n"
      ]
    },
    {
      "cell_type": "code",
      "metadata": {
        "colab": {
          "base_uri": "https://localhost:8080/"
        },
        "id": "U5xaVSiy8Wch",
        "outputId": "75158660-70e0-49e6-9a3c-0fbf2af06670"
      },
      "source": [
        "total_training_accuracy = np.concatenate((total_15_16_accuracy, total_16_17_accuracy, total_17_18_accuracy))\n",
        "np.count_nonzero(total_training_accuracy == True)/len(total_training_accuracy)"
      ],
      "execution_count": 33,
      "outputs": [
        {
          "output_type": "execute_result",
          "data": {
            "text/plain": [
              "0.4444444444444444"
            ]
          },
          "metadata": {},
          "execution_count": 33
        }
      ]
    },
    {
      "cell_type": "markdown",
      "metadata": {
        "id": "fP5Ac0pH6HYs"
      },
      "source": [
        "####Testing"
      ]
    },
    {
      "cell_type": "code",
      "metadata": {
        "id": "jg9DqGjzH9Uw"
      },
      "source": [
        "files.upload()"
      ],
      "execution_count": null,
      "outputs": []
    },
    {
      "cell_type": "code",
      "metadata": {
        "id": "bOkeMjPdNitl"
      },
      "source": [
        "epl_pred = pd.read_csv('PL_test_2.csv', parse_dates=[\"Date\"])\n",
        "epl_pred"
      ],
      "execution_count": null,
      "outputs": []
    },
    {
      "cell_type": "code",
      "metadata": {
        "id": "3xC9iXMDN5mW"
      },
      "source": [
        "epl_pred.columns = [\"Date\", \"HomeTeam\", \"AwayTeam\", \"Outcome(Home)\", \\\n",
        "\"Odds_W(Home)\", \"Odds_D\", \"Odds_L\", \"HomeRank\", \"AwayRank\", \"HomeLastResult\", \"AwayLastResult\"]\n",
        "epl_pred.head()"
      ],
      "execution_count": null,
      "outputs": []
    },
    {
      "cell_type": "code",
      "metadata": {
        "colab": {
          "base_uri": "https://localhost:8080/"
        },
        "id": "NSm549u_YvLv",
        "outputId": "8f271265-fcba-4c32-a3b7-4d04336abeae"
      },
      "source": [
        "y_test_act = epl_pred['Outcome(Home)']\n",
        "y_test_act.value_counts()"
      ],
      "execution_count": 37,
      "outputs": [
        {
          "output_type": "execute_result",
          "data": {
            "text/plain": [
              "W    181\n",
              "L    128\n",
              "D     71\n",
              "Name: Outcome(Home), dtype: int64"
            ]
          },
          "metadata": {},
          "execution_count": 37
        }
      ]
    },
    {
      "cell_type": "code",
      "metadata": {
        "id": "G50Alo4cqTOM"
      },
      "source": [
        "epl_pred"
      ],
      "execution_count": null,
      "outputs": []
    },
    {
      "cell_type": "markdown",
      "metadata": {
        "id": "jks6llj3v5VW"
      },
      "source": [
        "\n",
        "Here we compile the actual end-of-season standings and the top and bottom teams for our testing data."
      ]
    },
    {
      "cell_type": "code",
      "metadata": {
        "id": "B41x9Qp2rBDN"
      },
      "source": [
        "epl_test_standings = pd.DataFrame(index=epl_pred['HomeTeam'].unique(), columns=['W', 'D', 'L']).fillna(0)\n",
        "epl_test_standings"
      ],
      "execution_count": null,
      "outputs": []
    },
    {
      "cell_type": "code",
      "metadata": {
        "id": "GES_ZXxjrgU9"
      },
      "source": [
        "for team in epl_pred['HomeTeam'].unique():\n",
        "  epl_test_standings.loc[team]['W'] = len(epl_pred[(epl_pred['HomeTeam'] == team) & (epl_pred['Outcome(Home)'] == 'W')])\n",
        "  epl_test_standings.loc[team]['L'] = len(epl_pred[(epl_pred['HomeTeam'] == team) & (epl_pred['Outcome(Home)'] == 'L')])\n",
        "  epl_test_standings.loc[team]['D'] = len(epl_pred[(epl_pred['HomeTeam'] == team) & (epl_pred['Outcome(Home)'] == 'D')])\n",
        "  epl_test_standings.loc[team]['W'] = epl_test_standings.loc[team]['W'] + len(epl_pred[(epl_pred['AwayTeam'] == team) & (epl_pred['Outcome(Home)'] == 'L')])\n",
        "  epl_test_standings.loc[team]['L'] = epl_test_standings.loc[team]['L'] + len(epl_pred[(epl_pred['AwayTeam'] == team) & (epl_pred['Outcome(Home)'] == 'W')])\n",
        "  epl_test_standings.loc[team]['D'] = epl_test_standings.loc[team]['D'] + len(epl_pred[(epl_pred['AwayTeam'] == team) & (epl_pred['Outcome(Home)'] == 'D')])\n",
        "epl_test_standings.sort_index()"
      ],
      "execution_count": null,
      "outputs": []
    },
    {
      "cell_type": "code",
      "metadata": {
        "id": "RYnjAp6_r9i5"
      },
      "source": [
        "epl_test_standings['Points'] = epl_test_standings.apply(lambda row: 3*row.W + row.D + 0*row.L, axis=1)\n",
        "epl_test_standings.sort_values(by=['Points'], ascending=False)"
      ],
      "execution_count": null,
      "outputs": []
    },
    {
      "cell_type": "code",
      "metadata": {
        "id": "RmpUdAN_sqgS",
        "colab": {
          "base_uri": "https://localhost:8080/",
          "height": 143
        },
        "outputId": "fee8c90a-dedd-424a-fb81-048f08c8d792"
      },
      "source": [
        "top_act = epl_test_standings.nlargest(3, 'Points')\n",
        "top_act"
      ],
      "execution_count": 42,
      "outputs": [
        {
          "output_type": "execute_result",
          "data": {
            "text/plain": [
              "            W  D  L  Points\n",
              "Man City   32  2  4      98\n",
              "Liverpool  30  7  1      97\n",
              "Chelsea    21  9  8      72"
            ],
            "text/html": [
              "\n",
              "  <div id=\"df-b3f6112a-6483-41d4-a670-29090a9fbb3d\">\n",
              "    <div class=\"colab-df-container\">\n",
              "      <div>\n",
              "<style scoped>\n",
              "    .dataframe tbody tr th:only-of-type {\n",
              "        vertical-align: middle;\n",
              "    }\n",
              "\n",
              "    .dataframe tbody tr th {\n",
              "        vertical-align: top;\n",
              "    }\n",
              "\n",
              "    .dataframe thead th {\n",
              "        text-align: right;\n",
              "    }\n",
              "</style>\n",
              "<table border=\"1\" class=\"dataframe\">\n",
              "  <thead>\n",
              "    <tr style=\"text-align: right;\">\n",
              "      <th></th>\n",
              "      <th>W</th>\n",
              "      <th>D</th>\n",
              "      <th>L</th>\n",
              "      <th>Points</th>\n",
              "    </tr>\n",
              "  </thead>\n",
              "  <tbody>\n",
              "    <tr>\n",
              "      <th>Man City</th>\n",
              "      <td>32</td>\n",
              "      <td>2</td>\n",
              "      <td>4</td>\n",
              "      <td>98</td>\n",
              "    </tr>\n",
              "    <tr>\n",
              "      <th>Liverpool</th>\n",
              "      <td>30</td>\n",
              "      <td>7</td>\n",
              "      <td>1</td>\n",
              "      <td>97</td>\n",
              "    </tr>\n",
              "    <tr>\n",
              "      <th>Chelsea</th>\n",
              "      <td>21</td>\n",
              "      <td>9</td>\n",
              "      <td>8</td>\n",
              "      <td>72</td>\n",
              "    </tr>\n",
              "  </tbody>\n",
              "</table>\n",
              "</div>\n",
              "      <button class=\"colab-df-convert\" onclick=\"convertToInteractive('df-b3f6112a-6483-41d4-a670-29090a9fbb3d')\"\n",
              "              title=\"Convert this dataframe to an interactive table.\"\n",
              "              style=\"display:none;\">\n",
              "        \n",
              "  <svg xmlns=\"http://www.w3.org/2000/svg\" height=\"24px\"viewBox=\"0 0 24 24\"\n",
              "       width=\"24px\">\n",
              "    <path d=\"M0 0h24v24H0V0z\" fill=\"none\"/>\n",
              "    <path d=\"M18.56 5.44l.94 2.06.94-2.06 2.06-.94-2.06-.94-.94-2.06-.94 2.06-2.06.94zm-11 1L8.5 8.5l.94-2.06 2.06-.94-2.06-.94L8.5 2.5l-.94 2.06-2.06.94zm10 10l.94 2.06.94-2.06 2.06-.94-2.06-.94-.94-2.06-.94 2.06-2.06.94z\"/><path d=\"M17.41 7.96l-1.37-1.37c-.4-.4-.92-.59-1.43-.59-.52 0-1.04.2-1.43.59L10.3 9.45l-7.72 7.72c-.78.78-.78 2.05 0 2.83L4 21.41c.39.39.9.59 1.41.59.51 0 1.02-.2 1.41-.59l7.78-7.78 2.81-2.81c.8-.78.8-2.07 0-2.86zM5.41 20L4 18.59l7.72-7.72 1.47 1.35L5.41 20z\"/>\n",
              "  </svg>\n",
              "      </button>\n",
              "      \n",
              "  <style>\n",
              "    .colab-df-container {\n",
              "      display:flex;\n",
              "      flex-wrap:wrap;\n",
              "      gap: 12px;\n",
              "    }\n",
              "\n",
              "    .colab-df-convert {\n",
              "      background-color: #E8F0FE;\n",
              "      border: none;\n",
              "      border-radius: 50%;\n",
              "      cursor: pointer;\n",
              "      display: none;\n",
              "      fill: #1967D2;\n",
              "      height: 32px;\n",
              "      padding: 0 0 0 0;\n",
              "      width: 32px;\n",
              "    }\n",
              "\n",
              "    .colab-df-convert:hover {\n",
              "      background-color: #E2EBFA;\n",
              "      box-shadow: 0px 1px 2px rgba(60, 64, 67, 0.3), 0px 1px 3px 1px rgba(60, 64, 67, 0.15);\n",
              "      fill: #174EA6;\n",
              "    }\n",
              "\n",
              "    [theme=dark] .colab-df-convert {\n",
              "      background-color: #3B4455;\n",
              "      fill: #D2E3FC;\n",
              "    }\n",
              "\n",
              "    [theme=dark] .colab-df-convert:hover {\n",
              "      background-color: #434B5C;\n",
              "      box-shadow: 0px 1px 3px 1px rgba(0, 0, 0, 0.15);\n",
              "      filter: drop-shadow(0px 1px 2px rgba(0, 0, 0, 0.3));\n",
              "      fill: #FFFFFF;\n",
              "    }\n",
              "  </style>\n",
              "\n",
              "      <script>\n",
              "        const buttonEl =\n",
              "          document.querySelector('#df-b3f6112a-6483-41d4-a670-29090a9fbb3d button.colab-df-convert');\n",
              "        buttonEl.style.display =\n",
              "          google.colab.kernel.accessAllowed ? 'block' : 'none';\n",
              "\n",
              "        async function convertToInteractive(key) {\n",
              "          const element = document.querySelector('#df-b3f6112a-6483-41d4-a670-29090a9fbb3d');\n",
              "          const dataTable =\n",
              "            await google.colab.kernel.invokeFunction('convertToInteractive',\n",
              "                                                     [key], {});\n",
              "          if (!dataTable) return;\n",
              "\n",
              "          const docLinkHtml = 'Like what you see? Visit the ' +\n",
              "            '<a target=\"_blank\" href=https://colab.research.google.com/notebooks/data_table.ipynb>data table notebook</a>'\n",
              "            + ' to learn more about interactive tables.';\n",
              "          element.innerHTML = '';\n",
              "          dataTable['output_type'] = 'display_data';\n",
              "          await google.colab.output.renderOutput(dataTable, element);\n",
              "          const docLink = document.createElement('div');\n",
              "          docLink.innerHTML = docLinkHtml;\n",
              "          element.appendChild(docLink);\n",
              "        }\n",
              "      </script>\n",
              "    </div>\n",
              "  </div>\n",
              "  "
            ]
          },
          "metadata": {},
          "execution_count": 42
        }
      ]
    },
    {
      "cell_type": "code",
      "metadata": {
        "id": "Gyj-kUq0s19c",
        "colab": {
          "base_uri": "https://localhost:8080/",
          "height": 143
        },
        "outputId": "7fc50231-2c49-4a03-dcee-867620964f14"
      },
      "source": [
        "bottom_act = epl_test_standings.nsmallest(3, 'Points')\n",
        "bottom_act"
      ],
      "execution_count": 43,
      "outputs": [
        {
          "output_type": "execute_result",
          "data": {
            "text/plain": [
              "               W  D   L  Points\n",
              "Huddersfield   3  7  28      16\n",
              "Fulham         7  5  26      26\n",
              "Cardiff       10  4  24      34"
            ],
            "text/html": [
              "\n",
              "  <div id=\"df-9e7ce014-a4ce-4f40-accf-c2550a79cbe2\">\n",
              "    <div class=\"colab-df-container\">\n",
              "      <div>\n",
              "<style scoped>\n",
              "    .dataframe tbody tr th:only-of-type {\n",
              "        vertical-align: middle;\n",
              "    }\n",
              "\n",
              "    .dataframe tbody tr th {\n",
              "        vertical-align: top;\n",
              "    }\n",
              "\n",
              "    .dataframe thead th {\n",
              "        text-align: right;\n",
              "    }\n",
              "</style>\n",
              "<table border=\"1\" class=\"dataframe\">\n",
              "  <thead>\n",
              "    <tr style=\"text-align: right;\">\n",
              "      <th></th>\n",
              "      <th>W</th>\n",
              "      <th>D</th>\n",
              "      <th>L</th>\n",
              "      <th>Points</th>\n",
              "    </tr>\n",
              "  </thead>\n",
              "  <tbody>\n",
              "    <tr>\n",
              "      <th>Huddersfield</th>\n",
              "      <td>3</td>\n",
              "      <td>7</td>\n",
              "      <td>28</td>\n",
              "      <td>16</td>\n",
              "    </tr>\n",
              "    <tr>\n",
              "      <th>Fulham</th>\n",
              "      <td>7</td>\n",
              "      <td>5</td>\n",
              "      <td>26</td>\n",
              "      <td>26</td>\n",
              "    </tr>\n",
              "    <tr>\n",
              "      <th>Cardiff</th>\n",
              "      <td>10</td>\n",
              "      <td>4</td>\n",
              "      <td>24</td>\n",
              "      <td>34</td>\n",
              "    </tr>\n",
              "  </tbody>\n",
              "</table>\n",
              "</div>\n",
              "      <button class=\"colab-df-convert\" onclick=\"convertToInteractive('df-9e7ce014-a4ce-4f40-accf-c2550a79cbe2')\"\n",
              "              title=\"Convert this dataframe to an interactive table.\"\n",
              "              style=\"display:none;\">\n",
              "        \n",
              "  <svg xmlns=\"http://www.w3.org/2000/svg\" height=\"24px\"viewBox=\"0 0 24 24\"\n",
              "       width=\"24px\">\n",
              "    <path d=\"M0 0h24v24H0V0z\" fill=\"none\"/>\n",
              "    <path d=\"M18.56 5.44l.94 2.06.94-2.06 2.06-.94-2.06-.94-.94-2.06-.94 2.06-2.06.94zm-11 1L8.5 8.5l.94-2.06 2.06-.94-2.06-.94L8.5 2.5l-.94 2.06-2.06.94zm10 10l.94 2.06.94-2.06 2.06-.94-2.06-.94-.94-2.06-.94 2.06-2.06.94z\"/><path d=\"M17.41 7.96l-1.37-1.37c-.4-.4-.92-.59-1.43-.59-.52 0-1.04.2-1.43.59L10.3 9.45l-7.72 7.72c-.78.78-.78 2.05 0 2.83L4 21.41c.39.39.9.59 1.41.59.51 0 1.02-.2 1.41-.59l7.78-7.78 2.81-2.81c.8-.78.8-2.07 0-2.86zM5.41 20L4 18.59l7.72-7.72 1.47 1.35L5.41 20z\"/>\n",
              "  </svg>\n",
              "      </button>\n",
              "      \n",
              "  <style>\n",
              "    .colab-df-container {\n",
              "      display:flex;\n",
              "      flex-wrap:wrap;\n",
              "      gap: 12px;\n",
              "    }\n",
              "\n",
              "    .colab-df-convert {\n",
              "      background-color: #E8F0FE;\n",
              "      border: none;\n",
              "      border-radius: 50%;\n",
              "      cursor: pointer;\n",
              "      display: none;\n",
              "      fill: #1967D2;\n",
              "      height: 32px;\n",
              "      padding: 0 0 0 0;\n",
              "      width: 32px;\n",
              "    }\n",
              "\n",
              "    .colab-df-convert:hover {\n",
              "      background-color: #E2EBFA;\n",
              "      box-shadow: 0px 1px 2px rgba(60, 64, 67, 0.3), 0px 1px 3px 1px rgba(60, 64, 67, 0.15);\n",
              "      fill: #174EA6;\n",
              "    }\n",
              "\n",
              "    [theme=dark] .colab-df-convert {\n",
              "      background-color: #3B4455;\n",
              "      fill: #D2E3FC;\n",
              "    }\n",
              "\n",
              "    [theme=dark] .colab-df-convert:hover {\n",
              "      background-color: #434B5C;\n",
              "      box-shadow: 0px 1px 3px 1px rgba(0, 0, 0, 0.15);\n",
              "      filter: drop-shadow(0px 1px 2px rgba(0, 0, 0, 0.3));\n",
              "      fill: #FFFFFF;\n",
              "    }\n",
              "  </style>\n",
              "\n",
              "      <script>\n",
              "        const buttonEl =\n",
              "          document.querySelector('#df-9e7ce014-a4ce-4f40-accf-c2550a79cbe2 button.colab-df-convert');\n",
              "        buttonEl.style.display =\n",
              "          google.colab.kernel.accessAllowed ? 'block' : 'none';\n",
              "\n",
              "        async function convertToInteractive(key) {\n",
              "          const element = document.querySelector('#df-9e7ce014-a4ce-4f40-accf-c2550a79cbe2');\n",
              "          const dataTable =\n",
              "            await google.colab.kernel.invokeFunction('convertToInteractive',\n",
              "                                                     [key], {});\n",
              "          if (!dataTable) return;\n",
              "\n",
              "          const docLinkHtml = 'Like what you see? Visit the ' +\n",
              "            '<a target=\"_blank\" href=https://colab.research.google.com/notebooks/data_table.ipynb>data table notebook</a>'\n",
              "            + ' to learn more about interactive tables.';\n",
              "          element.innerHTML = '';\n",
              "          dataTable['output_type'] = 'display_data';\n",
              "          await google.colab.output.renderOutput(dataTable, element);\n",
              "          const docLink = document.createElement('div');\n",
              "          docLink.innerHTML = docLinkHtml;\n",
              "          element.appendChild(docLink);\n",
              "        }\n",
              "      </script>\n",
              "    </div>\n",
              "  </div>\n",
              "  "
            ]
          },
          "metadata": {},
          "execution_count": 43
        }
      ]
    },
    {
      "cell_type": "markdown",
      "metadata": {
        "id": "jifbS6-psrAl"
      },
      "source": [
        "We are now preparing the data in such a way as to predict the outcome of each game for the testing dataset using our tuned Random Forrest classifier, similar to what we did for the training data."
      ]
    },
    {
      "cell_type": "code",
      "metadata": {
        "id": "duU3z3vzqOx-"
      },
      "source": [
        "epl_pred = epl_pred.drop(columns=\"Outcome(Home)\")"
      ],
      "execution_count": 44,
      "outputs": []
    },
    {
      "cell_type": "code",
      "metadata": {
        "id": "Z_b-pWtfPQqq"
      },
      "source": [
        "home_oneHot_test = pd.get_dummies(epl_pred['HomeTeam'], prefix='home')\n",
        "home_oneHot_test"
      ],
      "execution_count": null,
      "outputs": []
    },
    {
      "cell_type": "code",
      "metadata": {
        "id": "J1LA8dLQPh3F"
      },
      "source": [
        "away_oneHot_test = pd.get_dummies(epl_pred['AwayTeam'], prefix='away')\n",
        "away_oneHot_test"
      ],
      "execution_count": null,
      "outputs": []
    },
    {
      "cell_type": "code",
      "metadata": {
        "id": "T-ecS6_bP0g5"
      },
      "source": [
        "home_away_oneHot_test = pd.concat([home_oneHot_test, away_oneHot_test], axis=1)\n",
        "home_away_oneHot_test"
      ],
      "execution_count": null,
      "outputs": []
    },
    {
      "cell_type": "code",
      "metadata": {
        "id": "cBgpmbITPqKY"
      },
      "source": [
        "X_test = pd.concat([home_away_oneHot_test, epl_pred[[\"Odds_W(Home)\", \\\n",
        "\"Odds_D\", \"Odds_L\", \"HomeRank\", \"AwayRank\", \"HomeLastResult\", \"AwayLastResult\"]]], axis = 1)\n",
        "X_test = X_test.reindex(labels=X_total.columns, axis=1)\n",
        "X_test"
      ],
      "execution_count": null,
      "outputs": []
    },
    {
      "cell_type": "code",
      "metadata": {
        "id": "qSlzvj4LRxq5"
      },
      "source": [
        "X_test = X_test.fillna(0)\n",
        "X_test"
      ],
      "execution_count": null,
      "outputs": []
    },
    {
      "cell_type": "code",
      "metadata": {
        "id": "ih6ASEnjOBju"
      },
      "source": [
        "y_pred = rf_dt_epl.predict(X_test)\n",
        "y_pred = pd.DataFrame(y_pred)[0]\n",
        "y_pred"
      ],
      "execution_count": null,
      "outputs": []
    },
    {
      "cell_type": "code",
      "metadata": {
        "colab": {
          "base_uri": "https://localhost:8080/"
        },
        "id": "CSpmlyfNSiET",
        "outputId": "ae9c58ed-e0ec-4589-be6c-73a78c83480b"
      },
      "source": [
        "from sklearn.metrics import accuracy_score\n",
        "accuracy_score(y_pred, y_test_act)"
      ],
      "execution_count": 51,
      "outputs": [
        {
          "output_type": "execute_result",
          "data": {
            "text/plain": [
              "0.5921052631578947"
            ]
          },
          "metadata": {},
          "execution_count": 51
        }
      ]
    },
    {
      "cell_type": "code",
      "metadata": {
        "colab": {
          "base_uri": "https://localhost:8080/"
        },
        "id": "OqP29xQKCTu6",
        "outputId": "333e7946-7466-4d5e-bfb3-a153d553b341"
      },
      "source": [
        "epl_pred[\"PredResult(Home)\"] = y_pred\n",
        "epl_pred[\"PredResult(Home)\"].value_counts()"
      ],
      "execution_count": 52,
      "outputs": [
        {
          "output_type": "execute_result",
          "data": {
            "text/plain": [
              "W    233\n",
              "L    147\n",
              "Name: PredResult(Home), dtype: int64"
            ]
          },
          "metadata": {},
          "execution_count": 52
        }
      ]
    },
    {
      "cell_type": "code",
      "metadata": {
        "id": "sC819o8gDBQq"
      },
      "source": [
        "epl_pred"
      ],
      "execution_count": null,
      "outputs": []
    },
    {
      "cell_type": "markdown",
      "metadata": {
        "id": "YweNrDHuwMMC"
      },
      "source": [
        "Here we compile the predicted end-of-season standings for our testing data."
      ]
    },
    {
      "cell_type": "code",
      "metadata": {
        "id": "hCXdPgcOkcAg"
      },
      "source": [
        "standings = pd.DataFrame(index=epl_pred['HomeTeam'].unique(), columns=['W', 'D', 'L']).fillna(0)\n",
        "standings"
      ],
      "execution_count": null,
      "outputs": []
    },
    {
      "cell_type": "code",
      "metadata": {
        "id": "Rr-PwsBpmpFI"
      },
      "source": [
        "for team in epl_pred['HomeTeam'].unique():\n",
        "  standings.loc[team]['W'] = len(epl_pred[(epl_pred['HomeTeam'] == team) & (epl_pred['PredResult(Home)'] == 'W')])\n",
        "  standings.loc[team]['L'] = len(epl_pred[(epl_pred['HomeTeam'] == team) & (epl_pred['PredResult(Home)'] == 'L')])\n",
        "  standings.loc[team]['D'] = len(epl_pred[(epl_pred['HomeTeam'] == team) & (epl_pred['PredResult(Home)'] == 'D')])\n",
        "  standings.loc[team]['W'] = standings.loc[team]['W'] + len(epl_pred[(epl_pred['AwayTeam'] == team) & (epl_pred['PredResult(Home)'] == 'L')])\n",
        "  standings.loc[team]['L'] = standings.loc[team]['L'] + len(epl_pred[(epl_pred['AwayTeam'] == team) & (epl_pred['PredResult(Home)'] == 'W')])\n",
        "  standings.loc[team]['D'] = standings.loc[team]['D'] + len(epl_pred[(epl_pred['AwayTeam'] == team) & (epl_pred['PredResult(Home)'] == 'D')])\n",
        "standings.sort_index()"
      ],
      "execution_count": null,
      "outputs": []
    },
    {
      "cell_type": "code",
      "metadata": {
        "id": "BbLbkZ89XaXW"
      },
      "source": [
        "standings['Points'] = standings.apply(lambda row: 3*row.W + row.D + 0*row.L, axis=1)\n",
        "standings.sort_values(by=['Points'], ascending=False)"
      ],
      "execution_count": null,
      "outputs": []
    },
    {
      "cell_type": "code",
      "metadata": {
        "id": "Gm46_YkByiRf"
      },
      "source": [
        "s = standings['Points'].drop_duplicates().nlargest(1)\n",
        "top = standings[standings['Points'].isin(s)]\n",
        "if len(top) < 3:\n",
        "  s = standings['Points'].drop_duplicates().nlargest(2)\n",
        "  top = standings[standings['Points'].isin(s)]\n",
        "  if len(top) < 3:\n",
        "    s = standings['Points'].drop_duplicates().nlargest(3)\n",
        "    top = standings[standings['Points'].isin(s)]\n",
        "top = top.sort_values(by='Points', ascending=False)\n",
        "top"
      ],
      "execution_count": null,
      "outputs": []
    },
    {
      "cell_type": "code",
      "metadata": {
        "id": "W8eIOnp5TYdp"
      },
      "source": [
        "s = standings['Points'].drop_duplicates().nsmallest(1)\n",
        "bottom = standings[standings['Points'].isin(s)]\n",
        "if len(bottom) < 3:\n",
        "  s = standings['Points'].drop_duplicates().nsmallest(2)\n",
        "  bottom = standings[standings['Points'].isin(s)]\n",
        "  if len(bottom) < 3:\n",
        "    s = standings['Points'].drop_duplicates().nsmallest(3)\n",
        "    bottom = standings[standings['Points'].isin(s)]\n",
        "bottom = bottom.sort_values(by='Points', ascending=False)\n",
        "bottom"
      ],
      "execution_count": null,
      "outputs": []
    },
    {
      "cell_type": "code",
      "metadata": {
        "id": "wcLrjcQy2tR8"
      },
      "source": [
        "top_act = top_act.index.array\n",
        "bottom_act = bottom_act.index.array"
      ],
      "execution_count": 59,
      "outputs": []
    },
    {
      "cell_type": "code",
      "metadata": {
        "id": "XpJM2Trf0Ngl"
      },
      "source": [
        "top = top.index.array\n",
        "bottom = bottom.index.array"
      ],
      "execution_count": 60,
      "outputs": []
    },
    {
      "cell_type": "code",
      "metadata": {
        "colab": {
          "base_uri": "https://localhost:8080/"
        },
        "id": "2L4ZhAxK23PN",
        "outputId": "b4f36d3b-1759-4424-f025-d949ec53adb3"
      },
      "source": [
        "top_accuracy = np.isin(top_act, top)\n",
        "top_accuracy"
      ],
      "execution_count": 61,
      "outputs": [
        {
          "output_type": "execute_result",
          "data": {
            "text/plain": [
              "array([ True,  True,  True])"
            ]
          },
          "metadata": {},
          "execution_count": 61
        }
      ]
    },
    {
      "cell_type": "code",
      "metadata": {
        "colab": {
          "base_uri": "https://localhost:8080/"
        },
        "id": "NG5jMvLW3nd0",
        "outputId": "e950d913-762e-41d6-d7ff-47686875c8c3"
      },
      "source": [
        "bottom_accuracy = np.isin(bottom_act, bottom)\n",
        "bottom_accuracy"
      ],
      "execution_count": 62,
      "outputs": [
        {
          "output_type": "execute_result",
          "data": {
            "text/plain": [
              "array([ True,  True,  True])"
            ]
          },
          "metadata": {},
          "execution_count": 62
        }
      ]
    },
    {
      "cell_type": "code",
      "metadata": {
        "colab": {
          "base_uri": "https://localhost:8080/"
        },
        "id": "_RGY3jck4uTm",
        "outputId": "84fac894-1ebb-41c7-be65-830da0671ea2"
      },
      "source": [
        "total_accuracy=np.concatenate((top_accuracy, bottom_accuracy))\n",
        "total_accuracy"
      ],
      "execution_count": 63,
      "outputs": [
        {
          "output_type": "execute_result",
          "data": {
            "text/plain": [
              "array([ True,  True,  True,  True,  True,  True])"
            ]
          },
          "metadata": {},
          "execution_count": 63
        }
      ]
    },
    {
      "cell_type": "code",
      "metadata": {
        "colab": {
          "base_uri": "https://localhost:8080/"
        },
        "id": "0QJO4L4S5QYk",
        "outputId": "81e8bd30-ab04-444c-e48b-72c0772164e7"
      },
      "source": [
        "np.count_nonzero(total_accuracy == True)/len(total_accuracy)"
      ],
      "execution_count": 64,
      "outputs": [
        {
          "output_type": "execute_result",
          "data": {
            "text/plain": [
              "1.0"
            ]
          },
          "metadata": {},
          "execution_count": 64
        }
      ]
    }
  ]
}